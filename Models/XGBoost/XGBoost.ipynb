{
 "cells": [
  {
   "cell_type": "markdown",
   "metadata": {},
   "source": [
    "# Load the dataset"
   ]
  },
  {
   "cell_type": "code",
   "execution_count": null,
   "metadata": {},
   "outputs": [
    {
     "name": "stdout",
     "output_type": "stream",
     "text": [
      "Training Dataset Shape: (339629, 91)\n",
      "Testing Dataset Shape: (339629, 91)\n",
      "   month  year         town  town_LE  town_YISHUN  town_WOODLANDS  \\\n",
      "0      4  2021   ANG MO KIO        0        False           False   \n",
      "1      6  2021  BUKIT MERAH        4        False           False   \n",
      "2      7  2023    SEMBAWANG       19        False           False   \n",
      "3      8  2021    WOODLANDS       24        False            True   \n",
      "4      3  2018       YISHUN       25         True           False   \n",
      "\n",
      "   town_TOA PAYOH  town_TAMPINES  town_SERANGOON  town_SENGKANG  ...  \\\n",
      "0           False          False           False          False  ...   \n",
      "1           False          False           False          False  ...   \n",
      "2           False          False           False          False  ...   \n",
      "3           False          False           False          False  ...   \n",
      "4           False          False           False          False  ...   \n",
      "\n",
      "   Secondary_within_1km  Secondary_nearest  JuniorCollege_within_1km  \\\n",
      "0                     1           0.843434                         1   \n",
      "1                     0           1.177691                         0   \n",
      "2                     1           0.253811                         0   \n",
      "3                     2           0.550972                         0   \n",
      "4                     4           0.491599                         1   \n",
      "\n",
      "   JuniorCollege_nearest  MixedLevel_within_1km  MixedLevel_nearest  \\\n",
      "0               0.742915                      1            0.400017   \n",
      "1               4.363681                      0            4.802472   \n",
      "2               2.495389                      0            3.570450   \n",
      "3               5.346639                      0            1.098328   \n",
      "4               0.950269                      0            5.044167   \n",
      "\n",
      "   NParks_within_1km  NParks_nearest  Sports_within_1km  Sports_nearest  \n",
      "0                 13        0.300195                  0        1.163650  \n",
      "1                 13        0.253860                  0        1.585886  \n",
      "2                  4        0.457514                  0        2.944299  \n",
      "3                  7        0.085652                  1        0.290956  \n",
      "4                  8        0.100056                  1        0.900004  \n",
      "\n",
      "[5 rows x 91 columns]\n",
      "   month  year         town  town_LE  town_YISHUN  town_WOODLANDS  \\\n",
      "0      4  2021   ANG MO KIO        0        False           False   \n",
      "1      6  2021  BUKIT MERAH        4        False           False   \n",
      "2      7  2023    SEMBAWANG       19        False           False   \n",
      "3      8  2021    WOODLANDS       24        False            True   \n",
      "4      3  2018       YISHUN       25         True           False   \n",
      "\n",
      "   town_TOA PAYOH  town_TAMPINES  town_SERANGOON  town_SENGKANG  ...  \\\n",
      "0           False          False           False          False  ...   \n",
      "1           False          False           False          False  ...   \n",
      "2           False          False           False          False  ...   \n",
      "3           False          False           False          False  ...   \n",
      "4           False          False           False          False  ...   \n",
      "\n",
      "   Secondary_within_1km  Secondary_nearest  JuniorCollege_within_1km  \\\n",
      "0                     1           0.843434                         1   \n",
      "1                     0           1.177691                         0   \n",
      "2                     1           0.253811                         0   \n",
      "3                     2           0.550972                         0   \n",
      "4                     4           0.491599                         1   \n",
      "\n",
      "   JuniorCollege_nearest  MixedLevel_within_1km  MixedLevel_nearest  \\\n",
      "0               0.742915                      1            0.400017   \n",
      "1               4.363681                      0            4.802472   \n",
      "2               2.495389                      0            3.570450   \n",
      "3               5.346639                      0            1.098328   \n",
      "4               0.950269                      0            5.044167   \n",
      "\n",
      "   NParks_within_1km  NParks_nearest  Sports_within_1km  Sports_nearest  \n",
      "0                 13        0.300195                  0        1.163650  \n",
      "1                 13        0.253860                  0        1.585886  \n",
      "2                  4        0.457514                  0        2.944299  \n",
      "3                  7        0.085652                  1        0.290956  \n",
      "4                  8        0.100056                  1        0.900004  \n",
      "\n",
      "[5 rows x 91 columns]\n"
     ]
    }
   ],
   "source": [
    "import pandas as pd\n",
    "import numpy as np\n",
    "\n",
    "# Define file paths\n",
    "train_data_path = \"../DataCollection/Data/cleaned_train.csv\"  # Update path if necessary\n",
    "test_data_path = \"../DataCollection/Data/cleaned_train.csv\"    # Update path if necessary\n",
    "\n",
    "# Load the training dataset\n",
    "df_train = pd.read_csv(train_data_path)\n",
    "df_test = pd.read_csv(test_data_path)\n",
    "\n",
    "# Display dataset shapes\n",
    "print(\"Training Dataset Shape:\", df_train.shape)\n",
    "print(\"Testing Dataset Shape:\", df_test.shape)\n",
    "\n",
    "# Show first few rows to verify\n",
    "print(df_train.head())\n",
    "print(df_test.head())"
   ]
  },
  {
   "cell_type": "markdown",
   "metadata": {},
   "source": [
    "Define Features and Targets"
   ]
  },
  {
   "cell_type": "code",
   "execution_count": 1,
   "metadata": {},
   "outputs": [
    {
     "ename": "NameError",
     "evalue": "name 'df_train' is not defined",
     "output_type": "error",
     "traceback": [
      "\u001b[31m---------------------------------------------------------------------------\u001b[39m",
      "\u001b[31mNameError\u001b[39m                                 Traceback (most recent call last)",
      "\u001b[36mCell\u001b[39m\u001b[36m \u001b[39m\u001b[32mIn[1]\u001b[39m\u001b[32m, line 13\u001b[39m\n\u001b[32m      2\u001b[39m target_column = \u001b[33m\"\u001b[39m\u001b[33mresale_price\u001b[39m\u001b[33m\"\u001b[39m\n\u001b[32m      4\u001b[39m features_final = [\n\u001b[32m      5\u001b[39m     \u001b[33m'\u001b[39m\u001b[33mmonth\u001b[39m\u001b[33m'\u001b[39m, \u001b[33m'\u001b[39m\u001b[33myear\u001b[39m\u001b[33m'\u001b[39m, \u001b[33m'\u001b[39m\u001b[33mtown_LE\u001b[39m\u001b[33m'\u001b[39m, \u001b[33m'\u001b[39m\u001b[33mflat_type_LE\u001b[39m\u001b[33m'\u001b[39m, \u001b[33m'\u001b[39m\u001b[33mstorey_range_LE\u001b[39m\u001b[33m'\u001b[39m, \n\u001b[32m      6\u001b[39m     \u001b[33m'\u001b[39m\u001b[33mprice_per_sqm\u001b[39m\u001b[33m'\u001b[39m, \u001b[33m'\u001b[39m\u001b[33mflat_model_LE\u001b[39m\u001b[33m'\u001b[39m, \u001b[33m'\u001b[39m\u001b[33mlease_commence_date\u001b[39m\u001b[33m'\u001b[39m, \n\u001b[32m   (...)\u001b[39m\u001b[32m     10\u001b[39m     \u001b[33m'\u001b[39m\u001b[33mNParks_within_1km\u001b[39m\u001b[33m'\u001b[39m, \u001b[33m'\u001b[39m\u001b[33mSports_within_1km\u001b[39m\u001b[33m'\u001b[39m, \u001b[33m'\u001b[39m\u001b[33mremaining_lease\u001b[39m\u001b[33m'\u001b[39m\n\u001b[32m     11\u001b[39m ]\n\u001b[32m---> \u001b[39m\u001b[32m13\u001b[39m X_train = \u001b[43mdf_train\u001b[49m[features_final]\n\u001b[32m     14\u001b[39m y_train = df_train[\u001b[33m'\u001b[39m\u001b[33mresale_price\u001b[39m\u001b[33m'\u001b[39m]\n\u001b[32m     16\u001b[39m X_test = df_test[features_final]\n",
      "\u001b[31mNameError\u001b[39m: name 'df_train' is not defined"
     ]
    }
   ],
   "source": [
    "# Define target variable\n",
    "target_column = \"resale_price\"\n",
    "\n",
    "features_final = [\n",
    "    'month', 'year', 'town_LE', 'flat_type_LE', 'storey_range_LE', \n",
    "    'price_per_sqm', 'flat_model_LE', 'lease_commence_date', \n",
    "    'Latitude', 'Longitude', 'LTAMRTStation_within_1km', 'MallCoordinates_within_1km',\n",
    "    'Hawker_within_1km', 'PreSchool_within_1km', 'Primary_within_1km',\n",
    "    'Secondary_within_1km', 'JuniorCollege_within_1km', 'MixedLevel_within_1km',\n",
    "    'NParks_within_1km', 'Sports_within_1km', 'remaining_lease'\n",
    "]\n",
    "\n",
    "X_train = df_train[features_final]\n",
    "y_train = df_train['resale_price']\n",
    "\n",
    "X_test = df_test[features_final]\n",
    "y_test = df_test['resale_price']\n",
    "\n",
    "print(\"Training Features Shape:\", X_train.shape)\n",
    "print(\"Testing Features Shape:\", X_test.shape)\n",
    "\n",
    "\n",
    "# Show first few rows to verify\n",
    "print(X_train.head())\n",
    "print(X_test.head())\n"
   ]
  },
  {
   "cell_type": "markdown",
   "metadata": {},
   "source": [
    "Ensure Train & Test Sets Have Same Features"
   ]
  },
  {
   "cell_type": "code",
   "execution_count": null,
   "metadata": {},
   "outputs": [
    {
     "name": "stdout",
     "output_type": "stream",
     "text": [
      "✅ Train & Test features aligned!\n",
      "Final X_train shape: (339629, 21)\n",
      "Final X_test shape: (339629, 21)\n"
     ]
    }
   ],
   "source": [
    "X_train, X_test = X_train.align(X_test, join=\"left\", axis=1, fill_value=0)\n",
    "\n",
    "print(\"✅ Train & Test features aligned!\")\n",
    "print(\"Final X_train shape:\", X_train.shape)\n",
    "print(\"Final X_test shape:\", X_test.shape)"
   ]
  },
  {
   "cell_type": "code",
   "execution_count": null,
   "metadata": {},
   "outputs": [
    {
     "name": "stdout",
     "output_type": "stream",
     "text": [
      "✅ X_train and y_train converted to NumPy arrays!\n",
      "X_train shape: (339629, 21)\n",
      "y_train shape: (339629,)\n"
     ]
    }
   ],
   "source": [
    "# Convert DataFrame to NumPy array\n",
    "X_train = np.array(X_train)\n",
    "X_test = np.array(X_test)\n",
    "\n",
    "# Convert Target (y_train, y_test) to NumPy arrays as well\n",
    "y_train = np.array(y_train).ravel()  # Flatten to ensure it's 1D\n",
    "y_test = np.array(y_test).ravel()\n",
    "\n",
    "print(\"✅ X_train and y_train converted to NumPy arrays!\")\n",
    "print(\"X_train shape:\", X_train.shape)\n",
    "print(\"y_train shape:\", y_train.shape)\n"
   ]
  },
  {
   "cell_type": "markdown",
   "metadata": {},
   "source": [
    "# XGBoost Model"
   ]
  },
  {
   "cell_type": "code",
   "execution_count": null,
   "metadata": {},
   "outputs": [
    {
     "name": "stdout",
     "output_type": "stream",
     "text": [
      "🔄 Loading saved model...\n",
      "✅ Model loaded successfully!\n",
      "Predictions: [405919.3  512003.28 328835.   392595.56 279809.6 ]\n"
     ]
    }
   ],
   "source": [
    "import os\n",
    "import joblib\n",
    "import xgboost as xgb\n",
    "\n",
    "# Define the model save path\n",
    "model_path = \"xgb_model.pkl\"  # Adjust path if needed\n",
    "\n",
    "# Check if the model already exists\n",
    "if os.path.exists(model_path):\n",
    "    print(\"🔄 Loading saved model...\")\n",
    "    xgb_model = joblib.load(model_path)\n",
    "    print(\"✅ Model loaded successfully!\")\n",
    "else:\n",
    "    print(\"🚀 No saved model found. Training a new one...\")\n",
    "\n",
    "    # Train the model\n",
    "    xgb_model = xgb.XGBRegressor(\n",
    "        objective=\"reg:squarederror\",\n",
    "        n_estimators=200,\n",
    "        learning_rate=0.1,\n",
    "        max_depth=6,\n",
    "        subsample=0.8,\n",
    "        colsample_bytree=0.8,\n",
    "        random_state=42\n",
    "    )\n",
    "\n",
    "    xgb_model.fit(X_train, y_train)\n",
    "    print(\"✅ XGBoost model trained successfully!\")\n",
    "\n",
    "    # Save the model\n",
    "    joblib.dump(xgb_model, model_path)\n",
    "    print(f\"✅ Model saved at: {model_path}\")\n",
    "\n",
    "# Now, you can use the model for predictions\n",
    "y_pred = xgb_model.predict(X_test)\n",
    "print(\"Predictions:\", y_pred[:5])\n"
   ]
  },
  {
   "cell_type": "code",
   "execution_count": null,
   "metadata": {},
   "outputs": [
    {
     "name": "stdout",
     "output_type": "stream",
     "text": [
      "Mean Absolute Error (MAE): 8987.89\n",
      "Mean Squared Error (MSE): 199887228.40\n",
      "Root Mean Squared Error (RMSE): 14138.15\n",
      "R² Score: 0.9944\n",
      "Mean Absolute Percentage Error (MAPE): 1.85%\n"
     ]
    }
   ],
   "source": [
    "from sklearn.metrics import mean_absolute_error, mean_squared_error, r2_score, mean_absolute_percentage_error\n",
    "\n",
    "y_pred = xgb_model.predict(X_test)\n",
    "\n",
    "# Calculate metrics explicitly\n",
    "mae = mean_absolute_error(y_test, y_pred)\n",
    "mse = mean_squared_error(y_test, y_pred)\n",
    "rmse = np.sqrt(mse)\n",
    "r2 = r2_score(y_test, y_pred)\n",
    "mape = mean_absolute_percentage_error(y_test, y_pred) * 100\n",
    "\n",
    "# Print metrics exactly matching your screenshot\n",
    "print(f\"Mean Absolute Error (MAE): {mae:.2f}\")\n",
    "print(f\"Mean Squared Error (MSE): {mse:.2f}\")\n",
    "print(f\"Root Mean Squared Error (RMSE): {rmse:.2f}\")\n",
    "print(f\"R² Score: {r2:.4f}\")\n",
    "print(f\"Mean Absolute Percentage Error (MAPE): {mape:.2f}%\")\n"
   ]
  },
  {
   "cell_type": "code",
   "execution_count": null,
   "metadata": {},
   "outputs": [
    {
     "name": "stdout",
     "output_type": "stream",
     "text": [
      "Train R² Score: 0.9944\n",
      "Test R² Score: 0.9944\n"
     ]
    }
   ],
   "source": [
    "print(f\"Train R² Score: {xgb_model.score(X_train, y_train):.4f}\")\n",
    "print(f\"Test R² Score: {xgb_model.score(X_test, y_test):.4f}\")\n"
   ]
  },
  {
   "cell_type": "code",
   "execution_count": null,
   "metadata": {},
   "outputs": [
    {
     "name": "stdout",
     "output_type": "stream",
     "text": [
      "First 5 values of y_train: [400000. 515000. 330000. 406000. 273000.]\n",
      "First 5 values of y_test: [400000. 515000. 330000. 406000. 273000.]\n"
     ]
    }
   ],
   "source": [
    "print(\"First 5 values of y_train:\", y_train[:5])\n",
    "print(\"First 5 values of y_test:\", y_test[:5])"
   ]
  },
  {
   "cell_type": "code",
   "execution_count": null,
   "metadata": {},
   "outputs": [
    {
     "data": {
      "image/png": "[encoded data removed]",
      "text/plain": [
       "<Figure size 640x480 with 1 Axes>"
      ]
     },
     "metadata": {},
     "output_type": "display_data"
    }
   ],
   "source": [
    "import matplotlib.pyplot as plt\n",
    "\n",
    "# Plot feature importance\n",
    "xgb.plot_importance(xgb_model, max_num_features=15, importance_type=\"weight\")\n",
    "plt.show()\n"
   ]
  },
  {
   "cell_type": "code",
   "execution_count": null,
   "metadata": {},
   "outputs": [
    {
     "name": "stdout",
     "output_type": "stream",
     "text": [
      "Predicted Resale Prices: [405919.3  512003.28 328835.   392595.56 279809.6 ]\n"
     ]
    }
   ],
   "source": [
    "# Example: Predict on new sample data (replace with actual feature values)\n",
    "sample_data = X_test[:5]  # Taking first 5 rows from test set\n",
    "predicted_prices = xgb_model.predict(sample_data)\n",
    "\n",
    "print(\"Predicted Resale Prices:\", predicted_prices)"
   ]
  },
  {
   "cell_type": "markdown",
   "metadata": {},
   "source": [
    "Save the Model"
   ]
  },
  {
   "cell_type": "code",
   "execution_count": null,
   "metadata": {},
   "outputs": [
    {
     "name": "stdout",
     "output_type": "stream",
     "text": [
      "✅ Model saved at: xgb_model.pkl\n"
     ]
    }
   ],
   "source": [
    "import joblib\n",
    "\n",
    "# Save the model\n",
    "model_path = \"xgb_model.pkl\"  # Adjust path if needed\n",
    "joblib.dump(xgb_model, model_path)\n",
    "\n",
    "print(f\"✅ Model saved at: {model_path}\")\n"
   ]
  },
  {
   "cell_type": "markdown",
   "metadata": {},
   "source": [
    "# Predicting "
   ]
  },
  {
   "cell_type": "code",
   "execution_count": null,
   "metadata": {},
   "outputs": [
    {
     "name": "stdout",
     "output_type": "stream",
     "text": [
      "Available towns: ['ANG MO KIO', 'BUKIT MERAH', 'SEMBAWANG', 'WOODLANDS', 'YISHUN', 'QUEENSTOWN', 'SENGKANG', 'JURONG WEST', 'BEDOK', 'GEYLANG', 'HOUGANG', 'BUKIT BATOK', 'CLEMENTI', 'TAMPINES', 'PUNGGOL', 'PASIR RIS', 'CHOA CHU KANG', 'BUKIT PANJANG', 'TOA PAYOH', 'KALLANG/WHAMPOA', 'BISHAN', 'MARINE PARADE', 'SERANGOON', 'JURONG EAST', 'CENTRAL AREA', 'BUKIT TIMAH']\n",
      "Available flat types: ['4 ROOM', '5 ROOM', '2 ROOM', '3 ROOM', 'EXECUTIVE', '1 ROOM', 'MULTI-GENERATION']\n",
      "Available flat models: ['New Generation', 'Standard', 'Model A', 'Simplified', 'Premium Apartment', 'Model A2', 'Improved', 'DBSS', 'Apartment', 'Maisonette', 'Adjoined flat', 'Type S1', '3Gen', 'Premium Apartment Loft', 'Model A-Maisonette', '2-room', 'Type S2', 'Multi Generation', 'Terrace', 'Improved-Maisonette', 'Premium Maisonette']\n",
      "Available storey ranges: ['04 TO 06', '01 TO 03', '10 TO 12', '07 TO 09', '22 TO 24', '13 TO 15', '19 TO 21', '16 TO 18', '31 TO 33', '28 TO 30', '34 TO 36', '25 TO 27', '43 TO 45', '37 TO 39', '40 TO 42', '46 TO 48', '49 TO 51']\n"
     ]
    }
   ],
   "source": [
    "# Ensure mappings are clearly defined and correct\n",
    "town_mapping = dict(df_train[['town', 'town_LE']].drop_duplicates().values)\n",
    "flat_type_mapping = dict(df_train[['flat_type', 'flat_type_LE']].drop_duplicates().values)\n",
    "flat_model_mapping = dict(df_train[['flat_model', 'flat_model_LE']].drop_duplicates().values)\n",
    "storey_range_mapping = dict(df_train[['storey_range', 'storey_range_LE']].drop_duplicates().values)\n",
    "\n",
    "# Verify keys clearly\n",
    "print(\"Available towns:\", list(town_mapping.keys()))\n",
    "print(\"Available flat types:\", list(flat_type_mapping.keys()))\n",
    "print(\"Available flat models:\", list(flat_model_mapping.keys()))\n",
    "print(\"Available storey ranges:\", list(storey_range_mapping.keys()))"
   ]
  },
  {
   "cell_type": "markdown",
   "metadata": {},
   "source": [
    "Predict the Pricing"
   ]
  },
  {
   "cell_type": "code",
   "execution_count": null,
   "metadata": {},
   "outputs": [
    {
     "data": {
      "application/vnd.jupyter.widget-view+json": {
       "model_id": "bbe06ad7399e4d7a86460c516df4ba2f",
       "version_major": 2,
       "version_minor": 0
      },
      "text/plain": [
       "VBox(children=(IntText(value=4, description='Month:'), IntText(value=2021, description='Year:'), Dropdown(desc…"
      ]
     },
     "metadata": {},
     "output_type": "display_data"
    }
   ],
   "source": [
    "import ipywidgets as widgets\n",
    "from IPython.display import display\n",
    "\n",
    "# Example clearly chosen default values (verify they're in your dataset explicitly):\n",
    "default_town = 'ANG MO KIO' if 'ANG MO KIO' in town_mapping else list(town_mapping.keys())[0]\n",
    "default_flat_type = '4 ROOM'\n",
    "default_flat_model = 'New Generation'\n",
    "default_storey_range = '04 TO 06'\n",
    "\n",
    "# Widgets using Dropdowns explicitly matched to your dictionary keys\n",
    "town_widget = widgets.Dropdown(\n",
    "    options=list(town_mapping.keys()),\n",
    "    value=default_town if (default_town := 'ANG MO KIO') in town_mapping else list(town_mapping.keys())[0],\n",
    "    description=\"Town:\"\n",
    ")\n",
    "\n",
    "flat_type_widget = widgets.Dropdown(\n",
    "    options=list(flat_type_mapping.keys()),\n",
    "    value=default_flat_type if (default_flat_type := '4 ROOM') in flat_type_mapping else list(flat_type_mapping.keys())[0],\n",
    "    description=\"Flat Type:\"\n",
    ")\n",
    "\n",
    "flat_model_widget = widgets.Dropdown(\n",
    "    options=list(flat_model_mapping.keys()),\n",
    "    value=default_model if (default_model := 'New Generation') in flat_model_mapping else list(flat_model_mapping.keys())[0],\n",
    "    description=\"Flat Model:\"\n",
    ")\n",
    "\n",
    "storey_range_widget = widgets.Dropdown(\n",
    "    options=list(storey_range_mapping.keys()),\n",
    "    value=default_storey_range if default_storey_range in storey_range_mapping else list(storey_range_mapping.keys())[0],\n",
    "    description=\"Storey Range:\"\n",
    ")\n",
    "\n",
    "# Numeric widgets explicitly defined\n",
    "month = widgets.IntText(value=4, description=\"Month:\")\n",
    "year = widgets.IntText(value=2021, description=\"Year:\")\n",
    "floor_area_sqm = widgets.FloatText(value=91.0, description=\"Floor Area (sqm):\")\n",
    "price_per_sqm = widgets.FloatText(value=4395.60, description=\"Price per sqm:\")\n",
    "lease_commence_date = widgets.IntText(value=1981, description=\"Lease Start Year:\")\n",
    "remaining_lease = widgets.IntText(value=59, description=\"Remaining Lease:\")\n",
    "Latitude = widgets.FloatText(value=1.3758152, description=\"Latitude:\")\n",
    "Longitude = widgets.FloatText(value=103.8381722, description=\"Longitude:\")\n",
    "LTAMRTStation_within_1km = widgets.IntText(value=3, description=\"MRTs ≤1km:\")\n",
    "MallCoordinates_within_1km = widgets.IntText(value=1, description=\"Malls ≤1km:\")\n",
    "Hawker_within_1km = widgets.IntText(value=18, description=\"Hawkers ≤1km:\")\n",
    "PreSchool_within_1km = widgets.IntText(value=26, description=\"Preschools ≤1km:\")\n",
    "Primary_within_1km = widgets.IntText(value=2, description=\"Primary ≤1km:\")\n",
    "Secondary_within_1km = widgets.IntText(value=1, description=\"Secondary ≤1km:\")\n",
    "JuniorCollege_within_1km = widgets.IntText(value=1, description=\"JC ≤1km:\")\n",
    "MixedLevel_within_1km = widgets.IntText(value=1, description=\"Mixed Levels ≤1km:\")\n",
    "NParks_within_1km = widgets.IntText(value=13, description=\"NParks ≤1km:\")\n",
    "Sports_within_1km = widgets.IntText(value=0, description=\"Sports ≤1km:\")\n",
    "remaining_lease = widgets.IntText(value=59, description=\"Remaining Lease:\")\n",
    "Latitude = widgets.FloatText(value=1.3758152, description=\"Latitude:\")\n",
    "Longitude = widgets.FloatText(value=103.8381722, description=\"Longitude:\")\n",
    "\n",
    "# Output widget clearly defined\n",
    "output = widgets.Output()\n",
    "\n",
    "# Corrected prediction function explicitly\n",
    "def predict_price(_):\n",
    "    with output:\n",
    "        output.clear_output()\n",
    "\n",
    "        # Prepare user input explicitly matching the trained features\n",
    "        user_input = pd.DataFrame({\n",
    "            \"month\": [month.value],\n",
    "            \"year\": [year.value],\n",
    "            \"town_LE\": [town_mapping[town_widget.value]],\n",
    "            \"flat_type_LE\": [flat_type_mapping[flat_type_widget.value]],\n",
    "            \"storey_range_LE\": [storey_range_mapping[storey_range_widget.value]],\n",
    "            \"price_per_sqm\": [price_per_sqm.value],\n",
    "            \"flat_model_LE\": [flat_model_mapping[flat_model_widget.value]],\n",
    "            \"lease_commence_date\": [lease_commence_date.value],\n",
    "            \"Latitude\": [Latitude.value],\n",
    "            \"Longitude\": [Longitude.value],\n",
    "            \"LTAMRTStation_within_1km\": [LTAMRTStation_within_1km.value],\n",
    "            \"MallCoordinates_within_1km\": [MallCoordinates_within_1km.value],\n",
    "            \"Hawker_within_1km\": [Hawker_within_1km.value],\n",
    "            \"PreSchool_within_1km\": [PreSchool_within_1km.value],\n",
    "            \"Primary_within_1km\": [Primary_within_1km.value],\n",
    "            \"Secondary_within_1km\": [Secondary_within_1km.value],\n",
    "            \"JuniorCollege_within_1km\": [JuniorCollege_within_1km.value],\n",
    "            \"MixedLevel_within_1km\": [MixedLevel_within_1km.value],\n",
    "            \"NParks_within_1km\": [NParks_within_1km.value],\n",
    "            \"Sports_within_1km\": [Sports_within_1km.value],\n",
    "            \"remaining_lease\": [remaining_lease.value],\n",
    "            \"town_LE\": [town_mapping[town_widget.value]],\n",
    "            \"flat_type_LE\": [flat_type_mapping[flat_type_widget.value]],\n",
    "            \"storey_range_LE\": [storey_range_mapping[storey_range_widget.value]],\n",
    "        })\n",
    "\n",
    "        # Align columns explicitly \n",
    "        user_input = user_input.reindex(columns=features_final, fill_value=0)\n",
    "\n",
    "        # Make prediction clearly\n",
    "        predicted_price = xgb_model.predict(user_input)\n",
    "\n",
    "        print(f\"📌 Predicted Resale Price: SGD {predicted_price[0]:,.2f}\")\n",
    "\n",
    "# Predict button\n",
    "predict_button = widgets.Button(description=\"Predict Resale Price\")\n",
    "predict_button.on_click(predict_price)\n",
    "\n",
    "# Display widgets and button clearly\n",
    "widgetbox = widgets.VBox([\n",
    "    month, year, town_widget, flat_type_widget, storey_range_widget,\n",
    "    flat_model_widget, floor_area_sqm, price_per_sqm,\n",
    "    lease_commence_date, remaining_lease, Latitude, Longitude,\n",
    "    LTAMRTStation_within_1km, MallCoordinates_within_1km, Hawker_within_1km,\n",
    "    PreSchool_within_1km, Primary_within_1km, Secondary_within_1km,\n",
    "    JuniorCollege_within_1km, MixedLevel_within_1km, NParks_within_1km,\n",
    "    Sports_within_1km, predict_button, output\n",
    "])\n",
    "\n",
    "display(widgetbox)\n"
   ]
  },
  {
   "cell_type": "code",
   "execution_count": 2,
   "metadata": {},
   "outputs": [
    {
     "name": "stdout",
     "output_type": "stream",
     "text": [
      "Collecting mediapipe\n",
      "  Downloading mediapipe-0.10.21-cp312-cp312-win_amd64.whl.metadata (10 kB)\n",
      "Collecting absl-py (from mediapipe)\n",
      "  Downloading absl_py-2.1.0-py3-none-any.whl.metadata (2.3 kB)\n",
      "Collecting attrs>=19.1.0 (from mediapipe)\n",
      "  Downloading attrs-25.2.0-py3-none-any.whl.metadata (11 kB)\n",
      "Collecting flatbuffers>=2.0 (from mediapipe)\n",
      "  Downloading flatbuffers-25.2.10-py2.py3-none-any.whl.metadata (875 bytes)\n",
      "Collecting jax (from mediapipe)\n",
      "  Downloading jax-0.5.2-py3-none-any.whl.metadata (22 kB)\n",
      "Collecting jaxlib (from mediapipe)\n",
      "  Downloading jaxlib-0.5.1-cp312-cp312-win_amd64.whl.metadata (1.0 kB)\n",
      "Requirement already satisfied: matplotlib in c:\\users\\xnoob\\documents\\github\\inf2008_ml_grp20\\jupyter_env\\lib\\site-packages (from mediapipe) (3.10.1)\n",
      "Collecting numpy<2 (from mediapipe)\n",
      "  Downloading numpy-1.26.4-cp312-cp312-win_amd64.whl.metadata (61 kB)\n",
      "Collecting opencv-contrib-python (from mediapipe)\n",
      "  Downloading opencv_contrib_python-4.11.0.86-cp37-abi3-win_amd64.whl.metadata (20 kB)\n",
      "Collecting protobuf<5,>=4.25.3 (from mediapipe)\n",
      "  Downloading protobuf-4.25.6-cp310-abi3-win_amd64.whl.metadata (541 bytes)\n",
      "Collecting sounddevice>=0.4.4 (from mediapipe)\n",
      "  Downloading sounddevice-0.5.1-py3-none-win_amd64.whl.metadata (1.4 kB)\n",
      "Collecting sentencepiece (from mediapipe)\n",
      "  Downloading sentencepiece-0.2.0-cp312-cp312-win_amd64.whl.metadata (8.3 kB)\n",
      "Collecting CFFI>=1.0 (from sounddevice>=0.4.4->mediapipe)\n",
      "  Using cached cffi-1.17.1-cp312-cp312-win_amd64.whl.metadata (1.6 kB)\n",
      "Collecting ml_dtypes>=0.4.0 (from jax->mediapipe)\n",
      "  Downloading ml_dtypes-0.5.1-cp312-cp312-win_amd64.whl.metadata (22 kB)\n",
      "Collecting opt_einsum (from jax->mediapipe)\n",
      "  Downloading opt_einsum-3.4.0-py3-none-any.whl.metadata (6.3 kB)\n",
      "Requirement already satisfied: scipy>=1.11.1 in c:\\users\\xnoob\\documents\\github\\inf2008_ml_grp20\\jupyter_env\\lib\\site-packages (from jax->mediapipe) (1.15.2)\n",
      "Requirement already satisfied: contourpy>=1.0.1 in c:\\users\\xnoob\\documents\\github\\inf2008_ml_grp20\\jupyter_env\\lib\\site-packages (from matplotlib->mediapipe) (1.3.1)\n",
      "Requirement already satisfied: cycler>=0.10 in c:\\users\\xnoob\\documents\\github\\inf2008_ml_grp20\\jupyter_env\\lib\\site-packages (from matplotlib->mediapipe) (0.12.1)\n",
      "Requirement already satisfied: fonttools>=4.22.0 in c:\\users\\xnoob\\documents\\github\\inf2008_ml_grp20\\jupyter_env\\lib\\site-packages (from matplotlib->mediapipe) (4.56.0)\n",
      "Requirement already satisfied: kiwisolver>=1.3.1 in c:\\users\\xnoob\\documents\\github\\inf2008_ml_grp20\\jupyter_env\\lib\\site-packages (from matplotlib->mediapipe) (1.4.8)\n",
      "Requirement already satisfied: packaging>=20.0 in c:\\users\\xnoob\\documents\\github\\inf2008_ml_grp20\\jupyter_env\\lib\\site-packages (from matplotlib->mediapipe) (24.2)\n",
      "Requirement already satisfied: pillow>=8 in c:\\users\\xnoob\\documents\\github\\inf2008_ml_grp20\\jupyter_env\\lib\\site-packages (from matplotlib->mediapipe) (11.1.0)\n",
      "Requirement already satisfied: pyparsing>=2.3.1 in c:\\users\\xnoob\\documents\\github\\inf2008_ml_grp20\\jupyter_env\\lib\\site-packages (from matplotlib->mediapipe) (3.2.1)\n",
      "Requirement already satisfied: python-dateutil>=2.7 in c:\\users\\xnoob\\documents\\github\\inf2008_ml_grp20\\jupyter_env\\lib\\site-packages (from matplotlib->mediapipe) (2.9.0.post0)\n",
      "Collecting pycparser (from CFFI>=1.0->sounddevice>=0.4.4->mediapipe)\n",
      "  Using cached pycparser-2.22-py3-none-any.whl.metadata (943 bytes)\n",
      "Requirement already satisfied: six>=1.5 in c:\\users\\xnoob\\documents\\github\\inf2008_ml_grp20\\jupyter_env\\lib\\site-packages (from python-dateutil>=2.7->matplotlib->mediapipe) (1.17.0)\n",
      "Downloading mediapipe-0.10.21-cp312-cp312-win_amd64.whl (51.0 MB)\n",
      "   ---------------------------------------- 0.0/51.0 MB ? eta -:--:--\n",
      "   --------------- ------------------------ 19.9/51.0 MB 96.9 MB/s eta 0:00:01\n",
      "   ------------------------------ --------- 39.1/51.0 MB 95.6 MB/s eta 0:00:01\n",
      "   ---------------------------------------  50.9/51.0 MB 89.9 MB/s eta 0:00:01\n",
      "   ---------------------------------------- 51.0/51.0 MB 81.1 MB/s eta 0:00:00\n",
      "Downloading attrs-25.2.0-py3-none-any.whl (64 kB)\n",
      "Downloading flatbuffers-25.2.10-py2.py3-none-any.whl (30 kB)\n",
      "Downloading numpy-1.26.4-cp312-cp312-win_amd64.whl (15.5 MB)\n",
      "   ---------------------------------------- 0.0/15.5 MB ? eta -:--:--\n",
      "   -------------------------------------- - 14.9/15.5 MB 72.0 MB/s eta 0:00:01\n",
      "   ---------------------------------------- 15.5/15.5 MB 64.9 MB/s eta 0:00:00\n",
      "Downloading protobuf-4.25.6-cp310-abi3-win_amd64.whl (413 kB)\n",
      "Downloading sounddevice-0.5.1-py3-none-win_amd64.whl (363 kB)\n",
      "Downloading absl_py-2.1.0-py3-none-any.whl (133 kB)\n",
      "Downloading jax-0.5.2-py3-none-any.whl (2.4 MB)\n",
      "   ---------------------------------------- 0.0/2.4 MB ? eta -:--:--\n",
      "   ---------------------------------------- 2.4/2.4 MB 65.8 MB/s eta 0:00:00\n",
      "Downloading jaxlib-0.5.1-cp312-cp312-win_amd64.whl (65.2 MB)\n",
      "   ---------------------------------------- 0.0/65.2 MB ? eta -:--:--\n",
      "   ----------- ---------------------------- 18.9/65.2 MB 91.7 MB/s eta 0:00:01\n",
      "   ------------------------ --------------- 40.1/65.2 MB 98.1 MB/s eta 0:00:01\n",
      "   ----------------------------------- ---- 57.9/65.2 MB 94.5 MB/s eta 0:00:01\n",
      "   ---------------------------------------  64.7/65.2 MB 77.9 MB/s eta 0:00:01\n",
      "   ---------------------------------------- 65.2/65.2 MB 74.3 MB/s eta 0:00:00\n",
      "Downloading opencv_contrib_python-4.11.0.86-cp37-abi3-win_amd64.whl (46.2 MB)\n",
      "   ---------------------------------------- 0.0/46.2 MB ? eta -:--:--\n",
      "   --------------- ------------------------ 17.8/46.2 MB 80.2 MB/s eta 0:00:01\n",
      "   ------------------------- -------------- 29.4/46.2 MB 71.7 MB/s eta 0:00:01\n",
      "   ----------------------------------- ---- 40.9/46.2 MB 66.7 MB/s eta 0:00:01\n",
      "   ---------------------------------------- 46.2/46.2 MB 62.6 MB/s eta 0:00:00\n",
      "Downloading sentencepiece-0.2.0-cp312-cp312-win_amd64.whl (991 kB)\n",
      "   ---------------------------------------- 0.0/992.0 kB ? eta -:--:--\n",
      "   --------------------------------------- 992.0/992.0 kB 48.7 MB/s eta 0:00:00\n",
      "Using cached cffi-1.17.1-cp312-cp312-win_amd64.whl (181 kB)\n",
      "Downloading ml_dtypes-0.5.1-cp312-cp312-win_amd64.whl (210 kB)\n",
      "Downloading opt_einsum-3.4.0-py3-none-any.whl (71 kB)\n",
      "Using cached pycparser-2.22-py3-none-any.whl (117 kB)\n",
      "Installing collected packages: sentencepiece, flatbuffers, pycparser, protobuf, opt_einsum, numpy, attrs, absl-py, opencv-contrib-python, ml_dtypes, CFFI, sounddevice, jaxlib, jax, mediapipe\n",
      "  Attempting uninstall: numpy\n",
      "    Found existing installation: numpy 2.2.3\n",
      "    Uninstalling numpy-2.2.3:\n",
      "      Successfully uninstalled numpy-2.2.3\n",
      "Successfully installed CFFI-1.17.1 absl-py-2.1.0 attrs-25.2.0 flatbuffers-25.2.10 jax-0.5.2 jaxlib-0.5.1 mediapipe-0.10.21 ml_dtypes-0.5.1 numpy-1.26.4 opencv-contrib-python-4.11.0.86 opt_einsum-3.4.0 protobuf-4.25.6 pycparser-2.22 sentencepiece-0.2.0 sounddevice-0.5.1\n",
      "Note: you may need to restart the kernel to use updated packages.\n"
     ]
    },
    {
     "name": "stderr",
     "output_type": "stream",
     "text": [
      "\n",
      "[notice] A new release of pip is available: 24.3.1 -> 25.0.1\n",
      "[notice] To update, run: python.exe -m pip install --upgrade pip\n"
     ]
    }
   ],
   "source": [
    "%pip install mediapipe"
   ]
  },
  {
   "cell_type": "code",
   "execution_count": null,
   "metadata": {},
   "outputs": [],
   "source": [
    "import cv2\n",
    "import mediapipe as mp\n",
    "import numpy as np\n",
    "\n",
    "# Initialize MediaPipe Pose\n",
    "mp_pose = mp.solutions.pose\n",
    "pose = mp_pose.Pose(min_detection_confidence=0.6, min_tracking_confidence=0.6)  # Increased confidence\n",
    "mp_drawing = mp.solutions.drawing_utils\n",
    "\n",
    "# Initialize Camera\n",
    "cap = cv2.VideoCapture(0)\n",
    "\n",
    "# Wrist & Posture Thresholds\n",
    "WRIST_ANGLE_THRESHOLD = 20  # Max wrist deviation\n",
    "CONFIDENCE_THRESHOLD = 0.5  # Minimum confidence for keypoint detection\n",
    "BAR_TILT_THRESHOLD = 0.05  # Max allowable difference in wrist height\n",
    "\n",
    "def calculate_angle(a, b, c):\n",
    "    \"\"\"Calculate the angle between three points.\"\"\"\n",
    "    a = np.array(a)  # First point\n",
    "    b = np.array(b)  # Middle point (joint)\n",
    "    c = np.array(c)  # Last point\n",
    "\n",
    "    radians = np.arctan2(c[1] - b[1], c[0] - b[0]) - np.arctan2(a[1] - b[1], a[0] - b[0])\n",
    "    angle = np.abs(radians * 180.0 / np.pi)\n",
    "    if angle > 180.0:\n",
    "        angle = 360 - angle\n",
    "\n",
    "    return angle\n",
    "\n",
    "def check_wrist_alignment(landmarks, frame):\n",
    "    \"\"\"Check if the wrists are neutral and not bending backward.\"\"\"\n",
    "    left_wrist_conf = landmarks[mp_pose.PoseLandmark.LEFT_WRIST].visibility\n",
    "    right_wrist_conf = landmarks[mp_pose.PoseLandmark.RIGHT_WRIST].visibility\n",
    "\n",
    "    if left_wrist_conf > CONFIDENCE_THRESHOLD and right_wrist_conf > CONFIDENCE_THRESHOLD:\n",
    "        left_elbow = landmarks[mp_pose.PoseLandmark.LEFT_ELBOW]\n",
    "        right_elbow = landmarks[mp_pose.PoseLandmark.RIGHT_ELBOW]\n",
    "        left_wrist = landmarks[mp_pose.PoseLandmark.LEFT_WRIST]\n",
    "        right_wrist = landmarks[mp_pose.PoseLandmark.RIGHT_WRIST]\n",
    "        left_hand = landmarks[mp_pose.PoseLandmark.LEFT_INDEX]\n",
    "        right_hand = landmarks[mp_pose.PoseLandmark.RIGHT_INDEX]\n",
    "\n",
    "        # Convert to (x, y) coordinates\n",
    "        left_elbow_pos = (left_elbow.x, left_elbow.y)\n",
    "        right_elbow_pos = (right_elbow.x, right_elbow.y)\n",
    "        left_wrist_pos = (left_wrist.x, left_wrist.y)\n",
    "        right_wrist_pos = (right_wrist.x, right_wrist.y)\n",
    "        left_hand_pos = (left_hand.x, left_hand.y)\n",
    "        right_hand_pos = (right_hand.x, right_hand.y)\n",
    "\n",
    "        # Calculate wrist angles\n",
    "        left_wrist_angle = calculate_angle(left_elbow_pos, left_wrist_pos, left_hand_pos)\n",
    "        right_wrist_angle = calculate_angle(right_elbow_pos, right_wrist_pos, right_hand_pos)\n",
    "\n",
    "        left_wrist_bent = abs(left_wrist_angle - 180) > WRIST_ANGLE_THRESHOLD\n",
    "        right_wrist_bent = abs(right_wrist_angle - 180) > WRIST_ANGLE_THRESHOLD\n",
    "\n",
    "        # Display warnings if wrist is misaligned\n",
    "        if left_wrist_bent:\n",
    "            cv2.putText(frame, \"?? Left wrist bent! Keep neutral!\", (20, 160), cv2.FONT_HERSHEY_SIMPLEX, 1, (0, 0, 255), 2)\n",
    "\n",
    "        if right_wrist_bent:\n",
    "            cv2.putText(frame, \"?? Right wrist bent! Keep neutral!\", (20, 200), cv2.FONT_HERSHEY_SIMPLEX, 1, (0, 0, 255), 2)\n",
    "    else:\n",
    "        cv2.putText(frame, \"? Wrist keypoints not detected reliably!\", (20, 240), cv2.FONT_HERSHEY_SIMPLEX, 1, (0, 0, 255), 2)\n",
    "    \n",
    "    \n",
    "def analyze_posture(landmarks, frame):\n",
    "    \"\"\"Analyze overall posture (feet position, back arch, grip width).\"\"\"\n",
    "    left_hip = landmarks[mp_pose.PoseLandmark.LEFT_HIP]\n",
    "    right_hip = landmarks[mp_pose.PoseLandmark.RIGHT_HIP]\n",
    "    left_foot = landmarks[mp_pose.PoseLandmark.LEFT_ANKLE]\n",
    "    right_foot = landmarks[mp_pose.PoseLandmark.RIGHT_ANKLE]\n",
    "\n",
    "    # Foot Placement Check\n",
    "    if abs(left_foot.y - right_foot.y) > 0.05:\n",
    "        cv2.putText(frame, \"?? Keep both feet flat on the ground!\", (20, 40), cv2.FONT_HERSHEY_SIMPLEX, 1, (0, 0, 255), 2)\n",
    "\n",
    "    # Back Arch Check\n",
    "    back_arch = abs(left_hip.y - right_hip.y)\n",
    "    if back_arch > 0.04:\n",
    "        cv2.putText(frame, \"?? Lower back arch too much!\", (20, 80), cv2.FONT_HERSHEY_SIMPLEX, 1, (0, 0, 255), 2)\n",
    "\n",
    "def check_bar_tilting(landmarks, frame):\n",
    "    \"\"\"Check if the bar is tilting (one wrist is higher than the other).\"\"\"\n",
    "    left_wrist = landmarks[mp_pose.PoseLandmark.LEFT_WRIST]\n",
    "    right_wrist = landmarks[mp_pose.PoseLandmark.RIGHT_WRIST]\n",
    "    left_elbow = landmarks[mp_pose.PoseLandmark.LEFT_ELBOW]\n",
    "    right_elbow = landmarks[mp_pose.PoseLandmark.RIGHT_ELBOW]\n",
    "\n",
    "    # Convert to (x, y) coordinates\n",
    "    left_wrist_y = left_wrist.y\n",
    "    right_wrist_y = right_wrist.y\n",
    "    left_elbow_y = left_elbow.y\n",
    "    right_elbow_y = right_elbow.y\n",
    "\n",
    "    # Check if the bar is tilting\n",
    "    if abs(left_wrist_y - right_wrist_y) > BAR_TILT_THRESHOLD:\n",
    "        leaning_side = \"LEFT\" if left_wrist_y > right_wrist_y else \"RIGHT\"\n",
    "        cv2.putText(frame, f\"?? Bar is tilting to the {leaning_side}! Keep it straight!\",\n",
    "                    (20, 280), cv2.FONT_HERSHEY_SIMPLEX, 1, (0, 0, 255), 2)\n",
    "\n",
    "    # Check if elbows are misaligned (one is higher than the other)\n",
    "    if abs(left_elbow_y - right_elbow_y) > BAR_TILT_THRESHOLD:\n",
    "        leaning_side = \"LEFT\" if left_elbow_y > right_elbow_y else \"RIGHT\"\n",
    "        cv2.putText(frame, f\"?? Bar is uneven! Adjust {leaning_side} arm!\",\n",
    "                    (20, 320), cv2.FONT_HERSHEY_SIMPLEX, 1, (0, 0, 255), 2)\n",
    "\n",
    "\n",
    "def process_frame(frame):\n",
    "    \"\"\"Process each video frame to analyze posture and wrist alignment.\"\"\"\n",
    "    frame_rgb = cv2.cvtColor(frame, cv2.COLOR_BGR2RGB)\n",
    "    results = pose.process(frame_rgb)\n",
    "\n",
    "    if results.pose_landmarks:\n",
    "        landmarks = results.pose_landmarks.landmark\n",
    "        check_wrist_alignment(landmarks, frame)\n",
    "        analyze_posture(landmarks, frame)\n",
    "        check_bar_tilting(landmarks, frame)\n",
    "\n",
    "        # Draw Pose Landmarks\n",
    "        mp_drawing.draw_landmarks(frame, results.pose_landmarks, mp_pose.POSE_CONNECTIONS)\n",
    "\n",
    "    return frame\n",
    "\n",
    "# MAIN LOOP\n",
    "while cap.isOpened():\n",
    "    ret, frame = cap.read()\n",
    "    if not ret:\n",
    "        break\n",
    "\n",
    "    frame = process_frame(frame)\n",
    "    cv2.imshow(\"Bench Press Form Correction\", frame)\n",
    "\n",
    "    if cv2.waitKey(1) & 0xFF == ord(\"q\"):\n",
    "        break\n",
    "\n",
    "cap.release()\n",
    "cv2.destroyAllWindows()"
   ]
  }
 ],
 "metadata": {
  "kernelspec": {
   "display_name": "jupyter_env",
   "language": "python",
   "name": "python3"
  },
  "language_info": {
   "codemirror_mode": {
    "name": "ipython",
    "version": 3
   },
   "file_extension": ".py",
   "mimetype": "text/x-python",
   "name": "python",
   "nbconvert_exporter": "python",
   "pygments_lexer": "ipython3",
   "version": "3.12.9"
  }
 },
 "nbformat": 4,
 "nbformat_minor": 2
}
