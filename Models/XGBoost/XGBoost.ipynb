{
 "cells": [
  {
   "cell_type": "markdown",
   "metadata": {},
   "source": [
    "# Load the dataset"
   ]
  },
  {
   "cell_type": "code",
   "execution_count": 1,
   "metadata": {},
   "outputs": [
    {
     "name": "stdout",
     "output_type": "stream",
     "text": [
      "Training Dataset Shape: (339629, 91)\n",
      "Testing Dataset Shape: (339629, 91)\n",
      "   month  year         town  town_LE  town_YISHUN  town_WOODLANDS  \\\n",
      "0      4  2021   ANG MO KIO        0        False           False   \n",
      "1      6  2021  BUKIT MERAH        4        False           False   \n",
      "2      7  2023    SEMBAWANG       19        False           False   \n",
      "3      8  2021    WOODLANDS       24        False            True   \n",
      "4      3  2018       YISHUN       25         True           False   \n",
      "\n",
      "   town_TOA PAYOH  town_TAMPINES  town_SERANGOON  town_SENGKANG  ...  \\\n",
      "0           False          False           False          False  ...   \n",
      "1           False          False           False          False  ...   \n",
      "2           False          False           False          False  ...   \n",
      "3           False          False           False          False  ...   \n",
      "4           False          False           False          False  ...   \n",
      "\n",
      "   Secondary_within_1km  Secondary_nearest  JuniorCollege_within_1km  \\\n",
      "0                     1           0.843434                         1   \n",
      "1                     0           1.177691                         0   \n",
      "2                     1           0.253811                         0   \n",
      "3                     2           0.550972                         0   \n",
      "4                     4           0.491599                         1   \n",
      "\n",
      "   JuniorCollege_nearest  MixedLevel_within_1km  MixedLevel_nearest  \\\n",
      "0               0.742915                      1            0.400017   \n",
      "1               4.363681                      0            4.802472   \n",
      "2               2.495389                      0            3.570450   \n",
      "3               5.346639                      0            1.098328   \n",
      "4               0.950269                      0            5.044167   \n",
      "\n",
      "   NParks_within_1km  NParks_nearest  Sports_within_1km  Sports_nearest  \n",
      "0                 13        0.300195                  0        1.163650  \n",
      "1                 13        0.253860                  0        1.585886  \n",
      "2                  4        0.457514                  0        2.944299  \n",
      "3                  7        0.085652                  1        0.290956  \n",
      "4                  8        0.100056                  1        0.900004  \n",
      "\n",
      "[5 rows x 91 columns]\n",
      "   month  year         town  town_LE  town_YISHUN  town_WOODLANDS  \\\n",
      "0      4  2021   ANG MO KIO        0        False           False   \n",
      "1      6  2021  BUKIT MERAH        4        False           False   \n",
      "2      7  2023    SEMBAWANG       19        False           False   \n",
      "3      8  2021    WOODLANDS       24        False            True   \n",
      "4      3  2018       YISHUN       25         True           False   \n",
      "\n",
      "   town_TOA PAYOH  town_TAMPINES  town_SERANGOON  town_SENGKANG  ...  \\\n",
      "0           False          False           False          False  ...   \n",
      "1           False          False           False          False  ...   \n",
      "2           False          False           False          False  ...   \n",
      "3           False          False           False          False  ...   \n",
      "4           False          False           False          False  ...   \n",
      "\n",
      "   Secondary_within_1km  Secondary_nearest  JuniorCollege_within_1km  \\\n",
      "0                     1           0.843434                         1   \n",
      "1                     0           1.177691                         0   \n",
      "2                     1           0.253811                         0   \n",
      "3                     2           0.550972                         0   \n",
      "4                     4           0.491599                         1   \n",
      "\n",
      "   JuniorCollege_nearest  MixedLevel_within_1km  MixedLevel_nearest  \\\n",
      "0               0.742915                      1            0.400017   \n",
      "1               4.363681                      0            4.802472   \n",
      "2               2.495389                      0            3.570450   \n",
      "3               5.346639                      0            1.098328   \n",
      "4               0.950269                      0            5.044167   \n",
      "\n",
      "   NParks_within_1km  NParks_nearest  Sports_within_1km  Sports_nearest  \n",
      "0                 13        0.300195                  0        1.163650  \n",
      "1                 13        0.253860                  0        1.585886  \n",
      "2                  4        0.457514                  0        2.944299  \n",
      "3                  7        0.085652                  1        0.290956  \n",
      "4                  8        0.100056                  1        0.900004  \n",
      "\n",
      "[5 rows x 91 columns]\n"
     ]
    }
   ],
   "source": [
    "import pandas as pd\n",
    "import numpy as np\n",
    "\n",
    "# Define file paths\n",
    "train_data_path = \"../../DataCollection/Data/cleaned_train.csv\"  # Update path if necessary\n",
    "test_data_path = \"../../DataCollection/Data/cleaned_train.csv\"    # Update path if necessary\n",
    "\n",
    "# Load the training dataset\n",
    "df_train = pd.read_csv(train_data_path)\n",
    "df_test = pd.read_csv(test_data_path)\n",
    "\n",
    "# Display dataset shapes\n",
    "print(\"Training Dataset Shape:\", df_train.shape)\n",
    "print(\"Testing Dataset Shape:\", df_test.shape)\n",
    "\n",
    "# Show first few rows to verify\n",
    "print(df_train.head())\n",
    "print(df_test.head())"
   ]
  },
  {
   "cell_type": "markdown",
   "metadata": {},
   "source": [
    "Define Features and Targets"
   ]
  },
  {
   "cell_type": "code",
   "execution_count": 2,
   "metadata": {},
   "outputs": [
    {
     "name": "stdout",
     "output_type": "stream",
     "text": [
      "Training Features Shape: (339629, 21)\n",
      "Testing Features Shape: (339629, 21)\n",
      "   month  year  town_LE  flat_type_LE  storey_range_LE  price_per_sqm  \\\n",
      "0      4  2021        0             3                2    4395.604396   \n",
      "1      6  2021        4             4                1    4364.406780   \n",
      "2      7  2023       19             1                4    6875.000000   \n",
      "3      8  2021       24             3                4    4833.333333   \n",
      "4      3  2018       25             2                4    4074.626866   \n",
      "\n",
      "   flat_model_LE  lease_commence_date  Latitude   Longitude  ...  \\\n",
      "0             12                 1981  1.375815  103.838172  ...   \n",
      "1             17                 1978  1.273850  103.811310  ...   \n",
      "2              8                 2019  1.443739  103.816274  ...   \n",
      "3             16                 1988  1.433222  103.781636  ...   \n",
      "4             12                 1985  1.432211  103.834084  ...   \n",
      "\n",
      "   MallCoordinates_within_1km  Hawker_within_1km  PreSchool_within_1km  \\\n",
      "0                           1                 18                    26   \n",
      "1                           0                 10                    19   \n",
      "2                           2                  4                    33   \n",
      "3                           3                 16                    23   \n",
      "4                           2                 23                    46   \n",
      "\n",
      "   Primary_within_1km  Secondary_within_1km  JuniorCollege_within_1km  \\\n",
      "0                   2                     1                         1   \n",
      "1                   1                     0                         0   \n",
      "2                   2                     1                         0   \n",
      "3                   4                     2                         0   \n",
      "4                   4                     4                         1   \n",
      "\n",
      "   MixedLevel_within_1km  NParks_within_1km  Sports_within_1km  \\\n",
      "0                      1                 13                  0   \n",
      "1                      0                 13                  0   \n",
      "2                      0                  4                  0   \n",
      "3                      0                  7                  1   \n",
      "4                      0                  8                  1   \n",
      "\n",
      "   remaining_lease  \n",
      "0        59.000000  \n",
      "1        55.666667  \n",
      "2        94.916667  \n",
      "3        65.750000  \n",
      "4        66.666667  \n",
      "\n",
      "[5 rows x 21 columns]\n",
      "   month  year  town_LE  flat_type_LE  storey_range_LE  price_per_sqm  \\\n",
      "0      4  2021        0             3                2    4395.604396   \n",
      "1      6  2021        4             4                1    4364.406780   \n",
      "2      7  2023       19             1                4    6875.000000   \n",
      "3      8  2021       24             3                4    4833.333333   \n",
      "4      3  2018       25             2                4    4074.626866   \n",
      "\n",
      "   flat_model_LE  lease_commence_date  Latitude   Longitude  ...  \\\n",
      "0             12                 1981  1.375815  103.838172  ...   \n",
      "1             17                 1978  1.273850  103.811310  ...   \n",
      "2              8                 2019  1.443739  103.816274  ...   \n",
      "3             16                 1988  1.433222  103.781636  ...   \n",
      "4             12                 1985  1.432211  103.834084  ...   \n",
      "\n",
      "   MallCoordinates_within_1km  Hawker_within_1km  PreSchool_within_1km  \\\n",
      "0                           1                 18                    26   \n",
      "1                           0                 10                    19   \n",
      "2                           2                  4                    33   \n",
      "3                           3                 16                    23   \n",
      "4                           2                 23                    46   \n",
      "\n",
      "   Primary_within_1km  Secondary_within_1km  JuniorCollege_within_1km  \\\n",
      "0                   2                     1                         1   \n",
      "1                   1                     0                         0   \n",
      "2                   2                     1                         0   \n",
      "3                   4                     2                         0   \n",
      "4                   4                     4                         1   \n",
      "\n",
      "   MixedLevel_within_1km  NParks_within_1km  Sports_within_1km  \\\n",
      "0                      1                 13                  0   \n",
      "1                      0                 13                  0   \n",
      "2                      0                  4                  0   \n",
      "3                      0                  7                  1   \n",
      "4                      0                  8                  1   \n",
      "\n",
      "   remaining_lease  \n",
      "0        59.000000  \n",
      "1        55.666667  \n",
      "2        94.916667  \n",
      "3        65.750000  \n",
      "4        66.666667  \n",
      "\n",
      "[5 rows x 21 columns]\n"
     ]
    }
   ],
   "source": [
    "# Define target variable\n",
    "target_column = \"resale_price\"\n",
    "\n",
    "features_final = [\n",
    "    'month', 'year', 'town_LE', 'flat_type_LE', 'storey_range_LE', \n",
    "    'price_per_sqm', 'flat_model_LE', 'lease_commence_date', \n",
    "    'Latitude', 'Longitude', 'LTAMRTStation_within_1km', 'MallCoordinates_within_1km',\n",
    "    'Hawker_within_1km', 'PreSchool_within_1km', 'Primary_within_1km',\n",
    "    'Secondary_within_1km', 'JuniorCollege_within_1km', 'MixedLevel_within_1km',\n",
    "    'NParks_within_1km', 'Sports_within_1km', 'remaining_lease'\n",
    "]\n",
    "\n",
    "X_train = df_train[features_final]\n",
    "y_train = df_train['resale_price']\n",
    "\n",
    "X_test = df_test[features_final]\n",
    "y_test = df_test['resale_price']\n",
    "\n",
    "print(\"Training Features Shape:\", X_train.shape)\n",
    "print(\"Testing Features Shape:\", X_test.shape)\n",
    "\n",
    "\n",
    "# Show first few rows to verify\n",
    "print(X_train.head())\n",
    "print(X_test.head())\n"
   ]
  },
  {
   "cell_type": "markdown",
   "metadata": {},
   "source": [
    "Ensure Train & Test Sets Have Same Features"
   ]
  },
  {
   "cell_type": "code",
   "execution_count": 3,
   "metadata": {},
   "outputs": [
    {
     "name": "stdout",
     "output_type": "stream",
     "text": [
      "✅ Train & Test features aligned!\n",
      "Final X_train shape: (339629, 21)\n",
      "Final X_test shape: (339629, 21)\n"
     ]
    }
   ],
   "source": [
    "X_train, X_test = X_train.align(X_test, join=\"left\", axis=1, fill_value=0)\n",
    "\n",
    "print(\"✅ Train & Test features aligned!\")\n",
    "print(\"Final X_train shape:\", X_train.shape)\n",
    "print(\"Final X_test shape:\", X_test.shape)"
   ]
  },
  {
   "cell_type": "code",
   "execution_count": 4,
   "metadata": {},
   "outputs": [
    {
     "name": "stdout",
     "output_type": "stream",
     "text": [
      "✅ X_train and y_train converted to NumPy arrays!\n",
      "X_train shape: (339629, 21)\n",
      "y_train shape: (339629,)\n"
     ]
    }
   ],
   "source": [
    "# Convert DataFrame to NumPy array\n",
    "X_train = np.array(X_train)\n",
    "X_test = np.array(X_test)\n",
    "\n",
    "# Convert Target (y_train, y_test) to NumPy arrays as well\n",
    "y_train = np.array(y_train).ravel()  # Flatten to ensure it's 1D\n",
    "y_test = np.array(y_test).ravel()\n",
    "\n",
    "print(\"✅ X_train and y_train converted to NumPy arrays!\")\n",
    "print(\"X_train shape:\", X_train.shape)\n",
    "print(\"y_train shape:\", y_train.shape)\n"
   ]
  },
  {
   "cell_type": "markdown",
   "metadata": {},
   "source": [
    "# XGBoost Model"
   ]
  },
  {
   "cell_type": "code",
   "execution_count": 5,
   "metadata": {},
   "outputs": [],
   "source": [
    "import xgboost as xgb\n",
    "from sklearn.model_selection import RandomizedSearchCV\n",
    "from scipy.stats import uniform, randint\n",
    "\n",
    "def tune_xgboost(X_train, y_train):\n",
    "    \"\"\"\n",
    "    Performs optimized Randomized Search for best hyperparameters.\n",
    "\n",
    "    Args:\n",
    "        X_train (array-like): Training features.\n",
    "        y_train (array-like): Training target.\n",
    "\n",
    "    Returns:\n",
    "        dict: Best hyperparameters found.\n",
    "    \"\"\"\n",
    "    # Define hyperparameter search space with smarter distributions\n",
    "    param_dist = {\n",
    "        'n_estimators': randint(200, 1200),  # More flexible range\n",
    "        'learning_rate': uniform(0.01, 0.3),  # Log-uniform ensures small values are explored\n",
    "        'max_depth': randint(3, 12),  # Wider range for more flexibility\n",
    "        'subsample': uniform(0.5, 0.5),  # Ensures diversity in training data\n",
    "        'colsample_bytree': uniform(0.5, 0.5),  # Helps prevent overfitting\n",
    "        'reg_alpha': uniform(0, 1.0),  # L1 regularization\n",
    "        'reg_lambda': uniform(1, 10),  # L2 regularization\n",
    "    }\n",
    "\n",
    "    # Create XGBoost model with early stopping support\n",
    "    xgb_model = xgb.XGBRegressor(\n",
    "        objective=\"reg:squarederror\",\n",
    "        random_state=42\n",
    "    )\n",
    "\n",
    "    # Perform Randomized Search with early stopping\n",
    "    random_search = RandomizedSearchCV(\n",
    "        estimator=xgb_model,\n",
    "        param_distributions=param_dist,\n",
    "        n_iter=50,  # Increased iterations for better search\n",
    "        cv=5,  # 5-fold cross-validation\n",
    "        scoring='r2',  # Optimize for R² score\n",
    "        n_jobs=-1,  # Use all CPU cores\n",
    "        random_state=42,\n",
    "        verbose=2\n",
    "    )\n",
    "\n",
    "    # Fit the model with early stopping\n",
    "    random_search.fit(X_train, y_train)\n",
    "\n",
    "    # Return best parameters\n",
    "    return random_search.best_params_\n"
   ]
  },
  {
   "cell_type": "code",
   "execution_count": 6,
   "metadata": {},
   "outputs": [],
   "source": [
    "def train_xgboost(X_train, y_train, params):\n",
    "    \"\"\"\n",
    "    Trains an XGBoost model using the best parameters found.\n",
    "    \n",
    "    Args:\n",
    "        X_train (array-like): Training features.\n",
    "        y_train (array-like): Training target.\n",
    "        params (dict): Best hyperparameters from RandomizedSearchCV.\n",
    "\n",
    "    Returns:\n",
    "        Trained XGBoost model.\n",
    "    \"\"\"\n",
    "    # Train the model\n",
    "    xgb_model = xgb.XGBRegressor(objective=\"reg:squarederror\", **params)\n",
    "    xgb_model.fit(X_train, y_train)\n",
    "    return xgb_model\n"
   ]
  },
  {
   "cell_type": "code",
   "execution_count": null,
   "metadata": {},
   "outputs": [
    {
     "name": "stdout",
     "output_type": "stream",
     "text": [
      "Fitting 5 folds for each of 50 candidates, totalling 250 fits\n",
      "🎯 Best Parameters Found: {'colsample_bytree': 0.9678174971104738, 'learning_rate': 0.24560219533418307, 'max_depth': 10, 'n_estimators': 1051, 'reg_alpha': 0.5806866214364547, 'reg_lambda': 4.722827665617431, 'subsample': 0.9700667212288892}\n",
      "✅ XGBoost model trained successfully!\n",
      "✅ Model saved at: xgb_model.pkl\n"
     ]
    }
   ],
   "source": [
    "import os\n",
    "import joblib\n",
    "\n",
    "# Define model save path\n",
    "model_path = \"xgb_model.pkl\"\n",
    "\n",
    "# if os.path.exists(model_path):\n",
    "#     print(\"🔄 Loading saved model...\")\n",
    "#     xgb_model = joblib.load(model_path)\n",
    "#     print(\"✅ Model loaded successfully!\")\n",
    "# else:\n",
    "#     print(\"🚀 No saved model found. Performing hyperparameter tuning...\")\n",
    "\n",
    "# Step 1: Tune Hyperparameters\n",
    "best_params = tune_xgboost(X_train, y_train)\n",
    "print(\"🎯 Best Parameters Found:\", best_params)\n",
    "\n",
    "# Step 2: Train Model with Best Parameters\n",
    "xgb_model = train_xgboost(X_train, y_train, best_params)\n",
    "print(\"✅ XGBoost model trained successfully!\")\n",
    "\n",
    "# Step 3: Save Model\n",
    "joblib.dump(xgb_model, model_path)\n",
    "print(f\"✅ Model saved at: {model_path}\")\n"
   ]
  },
  {
   "cell_type": "code",
   "execution_count": 8,
   "metadata": {},
   "outputs": [
    {
     "name": "stdout",
     "output_type": "stream",
     "text": [
      "Mean Absolute Error (MAE): 1008.81\n",
      "Mean Squared Error (MSE): 3655821.56\n",
      "Root Mean Squared Error (RMSE): 1912.02\n",
      "R² Score: 0.9999\n",
      "Mean Absolute Percentage Error (MAPE): 0.22%\n"
     ]
    }
   ],
   "source": [
    "from sklearn.metrics import mean_absolute_error, mean_squared_error, r2_score, mean_absolute_percentage_error\n",
    "\n",
    "y_pred = xgb_model.predict(X_test)\n",
    "\n",
    "# Calculate metrics explicitly\n",
    "mae = mean_absolute_error(y_test, y_pred)\n",
    "mse = mean_squared_error(y_test, y_pred)\n",
    "rmse = np.sqrt(mse)\n",
    "r2 = r2_score(y_test, y_pred)\n",
    "mape = mean_absolute_percentage_error(y_test, y_pred) * 100\n",
    "\n",
    "# Print metrics exactly matching your screenshot\n",
    "print(f\"Mean Absolute Error (MAE): {mae:.2f}\")\n",
    "print(f\"Mean Squared Error (MSE): {mse:.2f}\")\n",
    "print(f\"Root Mean Squared Error (RMSE): {rmse:.2f}\")\n",
    "print(f\"R² Score: {r2:.4f}\")\n",
    "print(f\"Mean Absolute Percentage Error (MAPE): {mape:.2f}%\")\n"
   ]
  },
  {
   "cell_type": "code",
   "execution_count": 9,
   "metadata": {},
   "outputs": [
    {
     "name": "stdout",
     "output_type": "stream",
     "text": [
      "Train R² Score: 0.9999\n",
      "Test R² Score: 0.9999\n"
     ]
    }
   ],
   "source": [
    "print(f\"Train R² Score: {xgb_model.score(X_train, y_train):.4f}\")\n",
    "print(f\"Test R² Score: {xgb_model.score(X_test, y_test):.4f}\")\n"
   ]
  },
  {
   "cell_type": "code",
   "execution_count": 10,
   "metadata": {},
   "outputs": [
    {
     "name": "stdout",
     "output_type": "stream",
     "text": [
      "First 5 values of y_train: [400000. 515000. 330000. 406000. 273000.]\n",
      "First 5 values of y_test: [400000. 515000. 330000. 406000. 273000.]\n"
     ]
    }
   ],
   "source": [
    "print(\"First 5 values of y_train:\", y_train[:5])\n",
    "print(\"First 5 values of y_test:\", y_test[:5])"
   ]
  },
  {
   "cell_type": "code",
   "execution_count": 11,
   "metadata": {},
   "outputs": [
    {
     "data": {
      "image/png": "[encoded data removed]",
      "text/plain": [
       "<Figure size 1000x600 with 1 Axes>"
      ]
     },
     "metadata": {},
     "output_type": "display_data"
    }
   ],
   "source": [
    "import matplotlib.pyplot as plt\n",
    "import xgboost as xgb\n",
    "\n",
    "# Retrieve feature names BEFORE converting to NumPy array\n",
    "feature_names = df_train[features_final].columns.tolist()\n",
    "\n",
    "# Plot feature importance with proper labels\n",
    "fig, ax = plt.subplots(figsize=(10, 6))  # Adjust figure size if needed\n",
    "xgb.plot_importance(xgb_model, ax=ax, max_num_features=15, importance_type=\"weight\")\n",
    "\n",
    "# Apply actual feature names\n",
    "ax.set_yticklabels(feature_names[:15])\n",
    "\n",
    "plt.show()\n"
   ]
  },
  {
   "cell_type": "code",
   "execution_count": 12,
   "metadata": {},
   "outputs": [
    {
     "name": "stdout",
     "output_type": "stream",
     "text": [
      "Predicted Resale Prices: [401279.9  514455.53 330741.62 405441.53 276647.78]\n"
     ]
    }
   ],
   "source": [
    "# Example: Predict on new sample data (replace with actual feature values)\n",
    "sample_data = X_test[:5]  # Taking first 5 rows from test set\n",
    "predicted_prices = xgb_model.predict(sample_data)\n",
    "\n",
    "print(\"Predicted Resale Prices:\", predicted_prices)"
   ]
  },
  {
   "cell_type": "markdown",
   "metadata": {},
   "source": [
    "# Predicting "
   ]
  },
  {
   "cell_type": "code",
   "execution_count": 13,
   "metadata": {},
   "outputs": [
    {
     "name": "stdout",
     "output_type": "stream",
     "text": [
      "Available towns: ['ANG MO KIO', 'BUKIT MERAH', 'SEMBAWANG', 'WOODLANDS', 'YISHUN', 'QUEENSTOWN', 'SENGKANG', 'JURONG WEST', 'BEDOK', 'GEYLANG', 'HOUGANG', 'BUKIT BATOK', 'CLEMENTI', 'TAMPINES', 'PUNGGOL', 'PASIR RIS', 'CHOA CHU KANG', 'BUKIT PANJANG', 'TOA PAYOH', 'KALLANG/WHAMPOA', 'BISHAN', 'MARINE PARADE', 'SERANGOON', 'JURONG EAST', 'CENTRAL AREA', 'BUKIT TIMAH']\n",
      "Available flat types: ['4 ROOM', '5 ROOM', '2 ROOM', '3 ROOM', 'EXECUTIVE', '1 ROOM', 'MULTI-GENERATION']\n",
      "Available flat models: ['New Generation', 'Standard', 'Model A', 'Simplified', 'Premium Apartment', 'Model A2', 'Improved', 'DBSS', 'Apartment', 'Maisonette', 'Adjoined flat', 'Type S1', '3Gen', 'Premium Apartment Loft', 'Model A-Maisonette', '2-room', 'Type S2', 'Multi Generation', 'Terrace', 'Improved-Maisonette', 'Premium Maisonette']\n",
      "Available storey ranges: ['04 TO 06', '01 TO 03', '10 TO 12', '07 TO 09', '22 TO 24', '13 TO 15', '19 TO 21', '16 TO 18', '31 TO 33', '28 TO 30', '34 TO 36', '25 TO 27', '43 TO 45', '37 TO 39', '40 TO 42', '46 TO 48', '49 TO 51']\n"
     ]
    }
   ],
   "source": [
    "# Ensure mappings are clearly defined and correct\n",
    "town_mapping = dict(df_train[['town', 'town_LE']].drop_duplicates().values)\n",
    "flat_type_mapping = dict(df_train[['flat_type', 'flat_type_LE']].drop_duplicates().values)\n",
    "flat_model_mapping = dict(df_train[['flat_model', 'flat_model_LE']].drop_duplicates().values)\n",
    "storey_range_mapping = dict(df_train[['storey_range', 'storey_range_LE']].drop_duplicates().values)\n",
    "\n",
    "# Verify keys clearly\n",
    "print(\"Available towns:\", list(town_mapping.keys()))\n",
    "print(\"Available flat types:\", list(flat_type_mapping.keys()))\n",
    "print(\"Available flat models:\", list(flat_model_mapping.keys()))\n",
    "print(\"Available storey ranges:\", list(storey_range_mapping.keys()))"
   ]
  },
  {
   "cell_type": "markdown",
   "metadata": {},
   "source": [
    "Predict the Pricing"
   ]
  },
  {
   "cell_type": "code",
   "execution_count": null,
   "metadata": {},
   "outputs": [
    {
     "data": {
      "application/vnd.jupyter.widget-view+json": {
       "model_id": "5b6e95ba05864b86aeb674de4ceb198e",
       "version_major": 2,
       "version_minor": 0
      },
      "text/plain": [
       "VBox(children=(IntText(value=4, description='Month:'), IntText(value=2021, description='Year:'), Dropdown(desc…"
      ]
     },
     "metadata": {},
     "output_type": "display_data"
    }
   ],
   "source": [
    "import ipywidgets as widgets\n",
    "from IPython.display import display\n",
    "\n",
    "# Example clearly chosen default values (verify they're in your dataset explicitly):\n",
    "default_town = 'ANG MO KIO' if 'ANG MO KIO' in town_mapping else list(town_mapping.keys())[0]\n",
    "default_flat_type = '4 ROOM'\n",
    "default_flat_model = 'New Generation'\n",
    "default_storey_range = '04 TO 06'\n",
    "\n",
    "# Widgets using Dropdowns explicitly matched to your dictionary keys\n",
    "town_widget = widgets.Dropdown(\n",
    "    options=list(town_mapping.keys()),\n",
    "    value=default_town if (default_town := 'ANG MO KIO') in town_mapping else list(town_mapping.keys())[0],\n",
    "    description=\"Town:\"\n",
    ")\n",
    "\n",
    "flat_type_widget = widgets.Dropdown(\n",
    "    options=list(flat_type_mapping.keys()),\n",
    "    value=default_flat_type if (default_flat_type := '4 ROOM') in flat_type_mapping else list(flat_type_mapping.keys())[0],\n",
    "    description=\"Flat Type:\"\n",
    ")\n",
    "\n",
    "flat_model_widget = widgets.Dropdown(\n",
    "    options=list(flat_model_mapping.keys()),\n",
    "    value=default_model if (default_model := 'New Generation') in flat_model_mapping else list(flat_model_mapping.keys())[0],\n",
    "    description=\"Flat Model:\"\n",
    ")\n",
    "\n",
    "storey_range_widget = widgets.Dropdown(\n",
    "    options=list(storey_range_mapping.keys()),\n",
    "    value=default_storey_range if default_storey_range in storey_range_mapping else list(storey_range_mapping.keys())[0],\n",
    "    description=\"Storey Range:\"\n",
    ")\n",
    "\n",
    "# Numeric widgets explicitly defined\n",
    "month = widgets.IntText(value=4, description=\"Month:\")\n",
    "year = widgets.IntText(value=2021, description=\"Year:\")\n",
    "floor_area_sqm = widgets.FloatText(value=91.0, description=\"Floor Area (sqm):\")\n",
    "price_per_sqm = widgets.FloatText(value=4395.60, description=\"Price per sqm:\")\n",
    "lease_commence_date = widgets.IntText(value=1981, description=\"Lease Start Year:\")\n",
    "remaining_lease = widgets.IntText(value=59, description=\"Remaining Lease:\")\n",
    "Latitude = widgets.FloatText(value=1.3758152, description=\"Latitude:\")\n",
    "Longitude = widgets.FloatText(value=103.8381722, description=\"Longitude:\")\n",
    "LTAMRTStation_within_1km = widgets.IntText(value=3, description=\"MRTs ≤1km:\")\n",
    "MallCoordinates_within_1km = widgets.IntText(value=1, description=\"Malls ≤1km:\")\n",
    "Hawker_within_1km = widgets.IntText(value=18, description=\"Hawkers ≤1km:\")\n",
    "PreSchool_within_1km = widgets.IntText(value=26, description=\"Preschools ≤1km:\")\n",
    "Primary_within_1km = widgets.IntText(value=2, description=\"Primary ≤1km:\")\n",
    "Secondary_within_1km = widgets.IntText(value=1, description=\"Secondary ≤1km:\")\n",
    "JuniorCollege_within_1km = widgets.IntText(value=1, description=\"JC ≤1km:\")\n",
    "MixedLevel_within_1km = widgets.IntText(value=1, description=\"Mixed Levels ≤1km:\")\n",
    "NParks_within_1km = widgets.IntText(value=13, description=\"NParks ≤1km:\")\n",
    "Sports_within_1km = widgets.IntText(value=0, description=\"Sports ≤1km:\")\n",
    "remaining_lease = widgets.IntText(value=59, description=\"Remaining Lease:\")\n",
    "Latitude = widgets.FloatText(value=1.3758152, description=\"Latitude:\")\n",
    "Longitude = widgets.FloatText(value=103.8381722, description=\"Longitude:\")\n",
    "\n",
    "# Output widget clearly defined\n",
    "output = widgets.Output()\n",
    "\n",
    "# Corrected prediction function explicitly\n",
    "def predict_price(_):\n",
    "    with output:\n",
    "        output.clear_output()\n",
    "\n",
    "        # Prepare user input explicitly matching the trained features\n",
    "        user_input = pd.DataFrame({\n",
    "            \"month\": [month.value],\n",
    "            \"year\": [year.value],\n",
    "            \"town_LE\": [town_mapping[town_widget.value]],\n",
    "            \"flat_type_LE\": [flat_type_mapping[flat_type_widget.value]],\n",
    "            \"storey_range_LE\": [storey_range_mapping[storey_range_widget.value]],\n",
    "            \"price_per_sqm\": [price_per_sqm.value],\n",
    "            \"flat_model_LE\": [flat_model_mapping[flat_model_widget.value]],\n",
    "            \"lease_commence_date\": [lease_commence_date.value],\n",
    "            \"Latitude\": [Latitude.value],\n",
    "            \"Longitude\": [Longitude.value],\n",
    "            \"LTAMRTStation_within_1km\": [LTAMRTStation_within_1km.value],\n",
    "            \"MallCoordinates_within_1km\": [MallCoordinates_within_1km.value],\n",
    "            \"Hawker_within_1km\": [Hawker_within_1km.value],\n",
    "            \"PreSchool_within_1km\": [PreSchool_within_1km.value],\n",
    "            \"Primary_within_1km\": [Primary_within_1km.value],\n",
    "            \"Secondary_within_1km\": [Secondary_within_1km.value],\n",
    "            \"JuniorCollege_within_1km\": [JuniorCollege_within_1km.value],\n",
    "            \"MixedLevel_within_1km\": [MixedLevel_within_1km.value],\n",
    "            \"NParks_within_1km\": [NParks_within_1km.value],\n",
    "            \"Sports_within_1km\": [Sports_within_1km.value],\n",
    "            \"remaining_lease\": [remaining_lease.value],\n",
    "            \"town_LE\": [town_mapping[town_widget.value]],\n",
    "            \"flat_type_LE\": [flat_type_mapping[flat_type_widget.value]],\n",
    "            \"storey_range_LE\": [storey_range_mapping[storey_range_widget.value]],\n",
    "        })\n",
    "\n",
    "        # Align columns explicitly \n",
    "        user_input = user_input.reindex(columns=features_final, fill_value=0)\n",
    "\n",
    "        # Make prediction clearly\n",
    "        predicted_price = xgb_model.predict(user_input)\n",
    "\n",
    "        print(f\"📌 Predicted Resale Price: SGD {predicted_price[0]:,.2f}\")\n",
    "\n",
    "# Predict button\n",
    "predict_button = widgets.Button(description=\"Predict Resale Price\")\n",
    "predict_button.on_click(predict_price)\n",
    "\n",
    "# Display widgets and button clearly\n",
    "widgetbox = widgets.VBox([\n",
    "    month, year, town_widget, flat_type_widget, storey_range_widget,\n",
    "    flat_model_widget, floor_area_sqm, price_per_sqm,\n",
    "    lease_commence_date, remaining_lease, Latitude, Longitude,\n",
    "    LTAMRTStation_within_1km, MallCoordinates_within_1km, Hawker_within_1km,\n",
    "    PreSchool_within_1km, Primary_within_1km, Secondary_within_1km,\n",
    "    JuniorCollege_within_1km, MixedLevel_within_1km, NParks_within_1km,\n",
    "    Sports_within_1km, predict_button, output\n",
    "])\n",
    "\n",
    "display(widgetbox)\n"
   ]
  }
 ],
 "metadata": {
  "kernelspec": {
   "display_name": "jupyter_env",
   "language": "python",
   "name": "python3"
  },
  "language_info": {
   "codemirror_mode": {
    "name": "ipython",
    "version": 3
   },
   "file_extension": ".py",
   "mimetype": "text/x-python",
   "name": "python",
   "nbconvert_exporter": "python",
   "pygments_lexer": "ipython3",
   "version": "3.12.9"
  }
 },
 "nbformat": 4,
 "nbformat_minor": 2
}
